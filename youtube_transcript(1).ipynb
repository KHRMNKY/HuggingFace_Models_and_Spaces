{
  "cells": [
    {
      "cell_type": "markdown",
      "metadata": {
        "id": "view-in-github",
        "colab_type": "text"
      },
      "source": [
        "<a href=\"https://colab.research.google.com/github/kahramankaya/HuggingFace_Spaces/blob/main/youtube_transcript(1).ipynb\" target=\"_parent\"><img src=\"https://colab.research.google.com/assets/colab-badge.svg\" alt=\"Open In Colab\"/></a>"
      ]
    },
    {
      "cell_type": "code",
      "source": [
        "!pip install -q transformers\n",
        "!pip install -q youtube_transcript_api\n",
        "!pip install -q --upgrade gradio"
      ],
      "metadata": {
        "id": "9aHdLOeeVa4q"
      },
      "execution_count": 2,
      "outputs": []
    },
    {
      "cell_type": "code",
      "source": [
        "from transformers import pipeline\n",
        "from youtube_transcript_api import YouTubeTranscriptApi\n",
        "import gradio as gr"
      ],
      "metadata": {
        "id": "OYdPKjWafwfm"
      },
      "execution_count": 3,
      "outputs": []
    },
    {
      "cell_type": "code",
      "source": [
        "def youtube(url):\n",
        "  video_id=url.split(\"=\")[1]\n",
        "  transcript=YouTubeTranscriptApi.get_transcript(video_id)\n",
        "  result=\"\"\n",
        "  for i in transcript[0:100]:\n",
        "    result+=i[\"text\"]+\" \"+\"\\n\"\n",
        "  summarization=pipeline(\"summarization\",model=\"facebook/bart-large-cnn\",max_length=60,min_length=10)\n",
        "  list_summarize=summarization(result)[0][\"summary_text\"].split(\". \")\n",
        "  result=\"\"\n",
        "  for m in list_summarize:\n",
        "    result+=m+\".\\n\"\n",
        "  return result\n",
        "\n",
        "youtube(\"https://www.youtube.com/watch?v=Da_kzhAvkRw\")"
      ],
      "metadata": {
        "id": "Noqv3r0J7DVA",
        "colab": {
          "base_uri": "https://localhost:8080/",
          "height": 53
        },
        "outputId": "a32643ea-e52f-4a93-dbab-599345eb78e3"
      },
      "execution_count": 4,
      "outputs": [
        {
          "output_type": "execute_result",
          "data": {
            "text/plain": [
              "\"Over the past year I've read 40 of the best-selling books on Personal Finance money and investing.\\nI wanted to really get to the bottom of what it takes to be the best investor and make sure I'm making the most of what I actually earn.\\nI thought that if I.\\n\""
            ],
            "application/vnd.google.colaboratory.intrinsic+json": {
              "type": "string"
            }
          },
          "metadata": {},
          "execution_count": 4
        }
      ]
    },
    {
      "cell_type": "code",
      "source": [
        "iface = gr.Interface(\n",
        "    fn=youtube,\n",
        "    inputs=\"text\",\n",
        "    outputs=\"text\",\n",
        "    title=\"Video Özeti Oluşturucu\",\n",
        "    description=\"Bir YouTube videosunun URL'sini girin ve özetini alın.\"\n",
        ")\n",
        "\n",
        "iface.launch()"
      ],
      "metadata": {
        "id": "P78qOG43NpH1",
        "colab": {
          "base_uri": "https://localhost:8080/",
          "height": 626
        },
        "outputId": "41f5f3bb-1717-4b64-926a-473f15faa455"
      },
      "execution_count": 5,
      "outputs": [
        {
          "output_type": "stream",
          "name": "stdout",
          "text": [
            "Setting queue=True in a Colab notebook requires sharing enabled. Setting `share=True` (you can turn this off by setting `share=False` in `launch()` explicitly).\n",
            "\n",
            "Colab notebook detected. To show errors in colab notebook, set debug=True in launch()\n",
            "Running on public URL: https://dd793c82438e077124.gradio.live\n",
            "\n",
            "This share link expires in 72 hours. For free permanent hosting and GPU upgrades, run `gradio deploy` from Terminal to deploy to Spaces (https://huggingface.co/spaces)\n"
          ]
        },
        {
          "output_type": "display_data",
          "data": {
            "text/plain": [
              "<IPython.core.display.HTML object>"
            ],
            "text/html": [
              "<div><iframe src=\"https://dd793c82438e077124.gradio.live\" width=\"100%\" height=\"500\" allow=\"autoplay; camera; microphone; clipboard-read; clipboard-write;\" frameborder=\"0\" allowfullscreen></iframe></div>"
            ]
          },
          "metadata": {}
        },
        {
          "output_type": "execute_result",
          "data": {
            "text/plain": []
          },
          "metadata": {},
          "execution_count": 5
        }
      ]
    }
  ],
  "metadata": {
    "colab": {
      "provenance": [],
      "gpuType": "T4",
      "include_colab_link": true
    },
    "kernelspec": {
      "display_name": "Python 3",
      "name": "python3"
    },
    "accelerator": "GPU"
  },
  "nbformat": 4,
  "nbformat_minor": 0
}