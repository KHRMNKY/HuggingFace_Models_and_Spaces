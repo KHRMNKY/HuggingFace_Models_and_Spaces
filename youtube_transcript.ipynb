{
  "cells": [
    {
      "cell_type": "markdown",
      "metadata": {
        "id": "view-in-github",
        "colab_type": "text"
      },
      "source": [
        "<a href=\"https://colab.research.google.com/github/kahramankaya/HuggingFace_Spaces/blob/main/youtube_transcript.ipynb\" target=\"_parent\"><img src=\"https://colab.research.google.com/assets/colab-badge.svg\" alt=\"Open In Colab\"/></a>"
      ]
    },
    {
      "cell_type": "code",
      "source": [
        "!pip install -q transformers\n",
        "!pip install -q youtube_transcript_api"
      ],
      "metadata": {
        "id": "9aHdLOeeVa4q"
      },
      "execution_count": 1,
      "outputs": []
    },
    {
      "cell_type": "code",
      "source": [
        "from transformers import pipeline\n",
        "from youtube_transcript_api import YouTubeTranscriptApi"
      ],
      "metadata": {
        "id": "OYdPKjWafwfm"
      },
      "execution_count": 2,
      "outputs": []
    },
    {
      "cell_type": "code",
      "source": [
        "def youtube(url):\n",
        "  video_id=url.split(\"=\")[1]\n",
        "  transcript=YouTubeTranscriptApi.get_transcript(video_id)\n",
        "  result=\"\"\n",
        "  for i in transcript[0:100]:\n",
        "    result+=i[\"text\"]+\" \"+\"\\n\"\n",
        "  summarization=pipeline(\"summarization\",model=\"facebook/bart-large-cnn\",max_length=60,min_length=10)\n",
        "  list_summarize=summarization(result)[0][\"summary_text\"].split(\". \")\n",
        "  for n in list_summarize:\n",
        "    print(n)\n",
        "\n",
        "youtube(\"https://www.youtube.com/watch?v=5pf0_bpNbkw\")"
      ],
      "metadata": {
        "colab": {
          "base_uri": "https://localhost:8080/"
        },
        "id": "Noqv3r0J7DVA",
        "outputId": "7c218770-6970-43a5-fbc3-ee55f26950a5"
      },
      "execution_count": 10,
      "outputs": [
        {
          "output_type": "stream",
          "name": "stdout",
          "text": [
            "Rob is a data scientist and he makes videos about machine learning coding in python and all things data science\n",
            "In this video we're going to talk about how to use jupyter notebooks on your local machine and some cloud environments\n",
            "Rob will also show you some of\n"
          ]
        }
      ]
    },
    {
      "cell_type": "code",
      "source": [
        "def url():\n",
        "  url1=input(\"lutfen youtube vıdesunun lınkını gırınız= \")\n",
        "  video_id=url1.split(\"=\")[1]\n",
        "  transcript=YouTubeTranscriptApi.get_transcript(video_id)\n",
        "  result=\"\"\n",
        "  for i in transcript[0:100]:\n",
        "    result+=i[\"text\"]+\" \"+\"\\n\"\n",
        "  summarization=pipeline(\"summarization\",model=\"facebook/bart-large-cnn\",max_length=60,min_length=10)\n",
        "  list_summarize=summarization(result)[0][\"summary_text\"].split(\". \")\n",
        "  for n in list_summarize:\n",
        "    print(n)\n",
        "\n",
        "url()"
      ],
      "metadata": {
        "id": "XPx-lmxoESsQ"
      },
      "execution_count": null,
      "outputs": []
    }
  ],
  "metadata": {
    "colab": {
      "provenance": [],
      "gpuType": "T4",
      "include_colab_link": true
    },
    "kernelspec": {
      "display_name": "Python 3",
      "name": "python3"
    },
    "accelerator": "GPU"
  },
  "nbformat": 4,
  "nbformat_minor": 0
}