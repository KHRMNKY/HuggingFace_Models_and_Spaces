{
  "cells": [
    {
      "cell_type": "markdown",
      "metadata": {
        "id": "view-in-github",
        "colab_type": "text"
      },
      "source": [
        "<a href=\"https://colab.research.google.com/github/kahramankaya/HuggingFace_Spaces/blob/main/Youtube_Transcript.ipynb\" target=\"_parent\"><img src=\"https://colab.research.google.com/assets/colab-badge.svg\" alt=\"Open In Colab\"/></a>"
      ]
    },
    {
      "cell_type": "code",
      "source": [
        "!pip install -q transformers\n",
        "!pip install -q youtube_transcript_api"
      ],
      "metadata": {
        "id": "9aHdLOeeVa4q"
      },
      "execution_count": 1,
      "outputs": []
    },
    {
      "cell_type": "code",
      "source": [
        "from transformers import pipeline\n",
        "from youtube_transcript_api import YouTubeTranscriptApi"
      ],
      "metadata": {
        "id": "OYdPKjWafwfm"
      },
      "execution_count": 2,
      "outputs": []
    },
    {
      "cell_type": "code",
      "source": [
        "def url():\n",
        "  url1=input(\"lutfen youtube vıdesunun lınkını gırınız= \")\n",
        "  video_id=url1.split(\"=\")[1]\n",
        "  transcript=YouTubeTranscriptApi.get_transcript(video_id)\n",
        "  result=\"\"\n",
        "  for i in transcript[0:100]:\n",
        "    result+=i[\"text\"]+\" \"+\"\\n\"\n",
        "  summarization=pipeline(\"summarization\",model=\"facebook/bart-large-cnn\",max_length=60,min_length=10)\n",
        "  list_summarize=summarization(result)[0][\"summary_text\"].split(\". \")\n",
        "  for n in list_summarize:\n",
        "    print(n)\n",
        "\n",
        "url()"
      ],
      "metadata": {
        "colab": {
          "base_uri": "https://localhost:8080/"
        },
        "id": "Noqv3r0J7DVA",
        "outputId": "b3a36052-ef8a-439e-8f77-a445e2b982be"
      },
      "execution_count": 6,
      "outputs": [
        {
          "output_type": "stream",
          "name": "stdout",
          "text": [
            "lutfen youtube vıdesunun lınkını gırınız= https://www.youtube.com/watch?v=5pf0_bpNbkw\n",
            "Rob is a data scientist and he makes videos about machine learning coding in python and all things data science\n",
            "In this video we're going to talk about how to use jupyter notebooks on your local machine and some cloud environments\n",
            "Rob will also show you some of\n"
          ]
        }
      ]
    }
  ],
  "metadata": {
    "colab": {
      "provenance": [],
      "gpuType": "T4",
      "include_colab_link": true
    },
    "kernelspec": {
      "display_name": "Python 3",
      "name": "python3"
    },
    "accelerator": "GPU"
  },
  "nbformat": 4,
  "nbformat_minor": 0
}