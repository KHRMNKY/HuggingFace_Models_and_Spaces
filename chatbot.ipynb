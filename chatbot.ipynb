{
  "cells": [
    {
      "cell_type": "markdown",
      "metadata": {
        "id": "view-in-github",
        "colab_type": "text"
      },
      "source": [
        "<a href=\"https://colab.research.google.com/github/kahramankaya/HuggingFace_Models/blob/main/chatbot.ipynb\" target=\"_parent\"><img src=\"https://colab.research.google.com/assets/colab-badge.svg\" alt=\"Open In Colab\"/></a>"
      ]
    },
    {
      "cell_type": "code",
      "source": [
        "!pip install conda\n",
        "!conda create env -f hf-env.yml\n",
        "import sys\n",
        "!conda activate <hf-env.yml>\n",
        "sys.path.append(\"/content/hf-env.yml\")\n",
        "\n",
        "!pip install transformers\n"
      ],
      "metadata": {
        "id": "ABCj_7LhLzxy",
        "outputId": "50eb21cc-f248-4a1b-b7fd-875c2bee9552",
        "colab": {
          "base_uri": "https://localhost:8080/"
        }
      },
      "execution_count": 59,
      "outputs": [
        {
          "output_type": "stream",
          "name": "stdout",
          "text": [
            "\u001b[31mERROR: Could not find a version that satisfies the requirement conda (from versions: 3.0.6, 3.5.0, 3.7.0, 3.17.0, 4.0.0, 4.0.1, 4.0.2, 4.0.3, 4.0.4, 4.0.5, 4.0.7, 4.0.8, 4.0.9, 4.1.2, 4.1.6, 4.2.6, 4.2.7, 4.3.13, 4.3.16)\u001b[0m\u001b[31m\n",
            "\u001b[0m\u001b[31mERROR: No matching distribution found for conda\u001b[0m\u001b[31m\n",
            "\u001b[0m/bin/bash: line 1: conda: command not found\n",
            "/bin/bash: -c: line 1: syntax error near unexpected token `newline'\n",
            "/bin/bash: -c: line 1: `conda activate <hf-env.yml>'\n",
            "Requirement already satisfied: transformers in /usr/local/lib/python3.10/dist-packages (4.34.1)\n",
            "Requirement already satisfied: filelock in /usr/local/lib/python3.10/dist-packages (from transformers) (3.12.4)\n",
            "Requirement already satisfied: huggingface-hub<1.0,>=0.16.4 in /usr/local/lib/python3.10/dist-packages (from transformers) (0.17.3)\n",
            "Requirement already satisfied: numpy>=1.17 in /usr/local/lib/python3.10/dist-packages (from transformers) (1.23.5)\n",
            "Requirement already satisfied: packaging>=20.0 in /usr/local/lib/python3.10/dist-packages (from transformers) (23.2)\n",
            "Requirement already satisfied: pyyaml>=5.1 in /usr/local/lib/python3.10/dist-packages (from transformers) (6.0.1)\n",
            "Requirement already satisfied: regex!=2019.12.17 in /usr/local/lib/python3.10/dist-packages (from transformers) (2023.6.3)\n",
            "Requirement already satisfied: requests in /usr/local/lib/python3.10/dist-packages (from transformers) (2.31.0)\n",
            "Requirement already satisfied: tokenizers<0.15,>=0.14 in /usr/local/lib/python3.10/dist-packages (from transformers) (0.14.1)\n",
            "Requirement already satisfied: safetensors>=0.3.1 in /usr/local/lib/python3.10/dist-packages (from transformers) (0.4.0)\n",
            "Requirement already satisfied: tqdm>=4.27 in /usr/local/lib/python3.10/dist-packages (from transformers) (4.66.1)\n",
            "Requirement already satisfied: fsspec in /usr/local/lib/python3.10/dist-packages (from huggingface-hub<1.0,>=0.16.4->transformers) (2023.6.0)\n",
            "Requirement already satisfied: typing-extensions>=3.7.4.3 in /usr/local/lib/python3.10/dist-packages (from huggingface-hub<1.0,>=0.16.4->transformers) (4.5.0)\n",
            "Requirement already satisfied: charset-normalizer<4,>=2 in /usr/local/lib/python3.10/dist-packages (from requests->transformers) (3.3.1)\n",
            "Requirement already satisfied: idna<4,>=2.5 in /usr/local/lib/python3.10/dist-packages (from requests->transformers) (3.4)\n",
            "Requirement already satisfied: urllib3<3,>=1.21.1 in /usr/local/lib/python3.10/dist-packages (from requests->transformers) (2.0.7)\n",
            "Requirement already satisfied: certifi>=2017.4.17 in /usr/local/lib/python3.10/dist-packages (from requests->transformers) (2023.7.22)\n"
          ]
        }
      ]
    },
    {
      "cell_type": "code",
      "source": [
        "from transformers import pipeline\n",
        "\n",
        "classifier = pipeline(task=\"sentiment-analysis\",\n",
        "                      model=\"distilbert-base-uncased-finetuned-sst-2-english\")\n",
        "\n",
        "classifier(\"senden nefret ediyorum\")"
      ],
      "metadata": {
        "id": "EavCohSrLzvC",
        "outputId": "9c41cb81-bf3a-44fd-e8a9-3bcd7c2a59ae",
        "colab": {
          "base_uri": "https://localhost:8080/"
        }
      },
      "execution_count": 60,
      "outputs": [
        {
          "output_type": "execute_result",
          "data": {
            "text/plain": [
              "[{'label': 'NEGATIVE', 'score': 0.8867656588554382}]"
            ]
          },
          "metadata": {},
          "execution_count": 60
        }
      ]
    },
    {
      "cell_type": "code",
      "source": [
        "text_list = [\n",
        "             \"Thanks for nothing\", \\\n",
        "             \"You've got to work on your face\", \\\n",
        "             \"You're beautiful, never change!\"\n",
        "             ]\n",
        "\n",
        "classifier(text_list)"
      ],
      "metadata": {
        "id": "CfA713s4LzmO",
        "outputId": "e293c2aa-f276-4ed7-934f-adcfb7537597",
        "colab": {
          "base_uri": "https://localhost:8080/"
        }
      },
      "execution_count": 61,
      "outputs": [
        {
          "output_type": "execute_result",
          "data": {
            "text/plain": [
              "[{'label': 'POSITIVE', 'score': 0.9680057168006897},\n",
              " {'label': 'NEGATIVE', 'score': 0.8776116371154785},\n",
              " {'label': 'POSITIVE', 'score': 0.9998120665550232}]"
            ]
          },
          "metadata": {},
          "execution_count": 61
        }
      ]
    },
    {
      "cell_type": "code",
      "source": [
        "classifier = pipeline(task=\"text-classification\", \\\n",
        "                      model=\"SamLowe/roberta-base-go_emotions\", top_k=5)\n",
        "\n",
        "classifier(text_list[0])"
      ],
      "metadata": {
        "id": "V5kaqpjOLzgT",
        "outputId": "cfca0849-25b8-4e54-c7f7-9bd227f4b83f",
        "colab": {
          "base_uri": "https://localhost:8080/"
        }
      },
      "execution_count": 62,
      "outputs": [
        {
          "output_type": "execute_result",
          "data": {
            "text/plain": [
              "[[{'label': 'gratitude', 'score': 0.97365802526474},\n",
              "  {'label': 'neutral', 'score': 0.019856028258800507},\n",
              "  {'label': 'annoyance', 'score': 0.016787199303507805},\n",
              "  {'label': 'disapproval', 'score': 0.009506478905677795},\n",
              "  {'label': 'realization', 'score': 0.008019842207431793}]]"
            ]
          },
          "metadata": {},
          "execution_count": 62
        }
      ]
    },
    {
      "cell_type": "code",
      "source": [
        "summarizer = pipeline(\"summarization\", model=\"facebook/bart-large-cnn\")\n",
        "\n",
        "text = \"\"\"\"Akıllı Yatırımcı,\" Benjamin Graham tarafından yazılan klasik bir yatırım kitabıdır.\n",
        " Kitap, değer yatırımı stratejilerini vurgular ve yatırımcılara risk yönetimi, güvenlik çeşitlendirmesi,\n",
        "  ve mantıklı hisse senedi seçimi konularında rehberlik eder.\n",
        "   Ayrıca, piyasa dalgalanmalarını anlamak ve duygusal kararlar yerine rasyonel analizleri benimsemek gerektiğini vurgular.\n",
        "   Bu kitap, yatırımcılar için temel bir kaynaktır ve finansal okuryazarlık kazanmalarına yardımcı olabilir.\"\"\"\n",
        "summarized_text = summarizer(text,max_length=160, min_length=10)[0][\"summary_text\"]\n",
        "print(summarized_text)"
      ],
      "metadata": {
        "id": "eBeGliY6Lze6",
        "outputId": "263d0e25-575f-438e-bebb-53085ce1c77b",
        "colab": {
          "base_uri": "https://localhost:8080/"
        }
      },
      "execution_count": 63,
      "outputs": [
        {
          "output_type": "stream",
          "name": "stdout",
          "text": [
            "\"Akıllı Yatırımcı,\" Benjamin Graham tarafından yazılan klasik bir yatçarım kitabıdır. Kitap, değer yat Turkey, stratejilerini vurgular ve yat Turkish, risk yönetimi, güvenlik çeşitlendirmesi ve mantıklı hisse senedi seçimi.\n"
          ]
        }
      ]
    },
    {
      "cell_type": "code",
      "source": [
        "classifier(summarized_text)"
      ],
      "metadata": {
        "id": "MHwD-zqOLzdl",
        "outputId": "0cc85f46-a82e-4554-b992-038c7397b5f4",
        "colab": {
          "base_uri": "https://localhost:8080/"
        }
      },
      "execution_count": 64,
      "outputs": [
        {
          "output_type": "execute_result",
          "data": {
            "text/plain": [
              "[[{'label': 'neutral', 'score': 0.934576690196991},\n",
              "  {'label': 'annoyance', 'score': 0.011846810579299927},\n",
              "  {'label': 'approval', 'score': 0.01065461803227663},\n",
              "  {'label': 'amusement', 'score': 0.004115849267691374},\n",
              "  {'label': 'realization', 'score': 0.0038815124426037073}]]"
            ]
          },
          "metadata": {},
          "execution_count": 64
        }
      ]
    },
    {
      "cell_type": "code",
      "source": [],
      "metadata": {
        "id": "Ts9UcFQILzbx"
      },
      "execution_count": 64,
      "outputs": []
    },
    {
      "cell_type": "code",
      "source": [],
      "metadata": {
        "id": "RL_w6eogLzay"
      },
      "execution_count": 64,
      "outputs": []
    },
    {
      "cell_type": "code",
      "source": [],
      "metadata": {
        "id": "-LsDKC4OOYTt"
      },
      "execution_count": 64,
      "outputs": []
    },
    {
      "cell_type": "code",
      "source": [
        "chatbot = pipeline(model=\"facebook/blenderbot-400M-distill\")"
      ],
      "metadata": {
        "id": "jzlNFs9BOYWd"
      },
      "execution_count": 65,
      "outputs": []
    },
    {
      "cell_type": "code",
      "source": [
        "from transformers import Conversation\n",
        "\n",
        "conversation = Conversation(\"Hi I'm KAHRAMAN, how are you?\")\n",
        "conversation = chatbot(conversation)\n",
        "print(conversation)"
      ],
      "metadata": {
        "id": "WidsUGLAOoeK",
        "outputId": "7715a55e-bed2-49a9-8ac5-0ed362e24536",
        "colab": {
          "base_uri": "https://localhost:8080/"
        }
      },
      "execution_count": 66,
      "outputs": [
        {
          "output_type": "stream",
          "name": "stdout",
          "text": [
            "Conversation id: 6e9d0605-e84c-4b52-bafc-f2699fc2bb49\n",
            "user: Hi I'm KAHRAMAN, how are you?\n",
            "assistant:  I'm doing well. How are you doing this evening? I just got home from work.\n",
            "\n"
          ]
        }
      ]
    },
    {
      "cell_type": "code",
      "source": [
        "conversation.add_user_input(\"What about do you work? \")\n",
        "conversation = chatbot(conversation)\n",
        "print(conversation)"
      ],
      "metadata": {
        "id": "m8C258-uOrqr",
        "outputId": "f1ce8970-7ace-4631-a151-eea9311c2e00",
        "colab": {
          "base_uri": "https://localhost:8080/"
        }
      },
      "execution_count": 67,
      "outputs": [
        {
          "output_type": "stream",
          "name": "stdout",
          "text": [
            "Conversation id: 6e9d0605-e84c-4b52-bafc-f2699fc2bb49\n",
            "user: Hi I'm KAHRAMAN, how are you?\n",
            "assistant:  I'm doing well. How are you doing this evening? I just got home from work.\n",
            "user: What about do you work? \n",
            "assistant:  I work at a grocery store as a cashier. What do you do for work?\n",
            "\n"
          ]
        }
      ]
    },
    {
      "cell_type": "code",
      "source": [
        "conversation.add_user_input(\"I'am working software in cafe now\")\n",
        "conversation = chatbot(conversation)\n",
        "print(conversation)"
      ],
      "metadata": {
        "id": "d-y0UM4KO4pq",
        "outputId": "a2e8acd9-fd22-418c-fcaa-58437249b236",
        "colab": {
          "base_uri": "https://localhost:8080/"
        }
      },
      "execution_count": 68,
      "outputs": [
        {
          "output_type": "stream",
          "name": "stderr",
          "text": [
            "Conversation input is too long (78), trimming it to 50 tokens. Consider increasing `max_length` to avoid truncation.\n"
          ]
        },
        {
          "output_type": "stream",
          "name": "stdout",
          "text": [
            "Conversation id: 6e9d0605-e84c-4b52-bafc-f2699fc2bb49\n",
            "user: Hi I'm KAHRAMAN, how are you?\n",
            "assistant:  I'm doing well. How are you doing this evening? I just got home from work.\n",
            "user: What about do you work? \n",
            "assistant:  I work at a grocery store as a cashier. What do you do for work?\n",
            "user: I'am working software in cafe now\n",
            "assistant:  That sounds like a lot of fun. What kind of food do you serve at the cafe?\n",
            "\n"
          ]
        }
      ]
    },
    {
      "cell_type": "code",
      "source": [
        "conversation.add_user_input(\"I'am just getting started.\")\n",
        "conversation = chatbot(conversation)\n",
        "print(conversation)"
      ],
      "metadata": {
        "id": "VjL__dUvQKqK",
        "outputId": "bc133697-1c4b-46a1-b3e7-e36c40e795b9",
        "colab": {
          "base_uri": "https://localhost:8080/"
        }
      },
      "execution_count": 69,
      "outputs": [
        {
          "output_type": "stream",
          "name": "stderr",
          "text": [
            "Conversation input is too long (109), trimming it to 50 tokens. Consider increasing `max_length` to avoid truncation.\n"
          ]
        },
        {
          "output_type": "stream",
          "name": "stdout",
          "text": [
            "Conversation id: 6e9d0605-e84c-4b52-bafc-f2699fc2bb49\n",
            "user: Hi I'm KAHRAMAN, how are you?\n",
            "assistant:  I'm doing well. How are you doing this evening? I just got home from work.\n",
            "user: What about do you work? \n",
            "assistant:  I work at a grocery store as a cashier. What do you do for work?\n",
            "user: I'am working software in cafe now\n",
            "assistant:  That sounds like a lot of fun. What kind of food do you serve at the cafe?\n",
            "user: I'am just getting started.\n",
            "assistant:  I hope it goes well for you. Do you have any tips for a newbie?\n",
            "\n"
          ]
        }
      ]
    }
  ],
  "metadata": {
    "colab": {
      "provenance": [],
      "include_colab_link": true
    },
    "kernelspec": {
      "display_name": "Python 3",
      "name": "python3"
    }
  },
  "nbformat": 4,
  "nbformat_minor": 0
}